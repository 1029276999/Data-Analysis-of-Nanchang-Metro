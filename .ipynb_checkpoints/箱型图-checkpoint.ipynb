{
 "cells": [
  {
   "cell_type": "code",
   "execution_count": 75,
   "metadata": {},
   "outputs": [],
   "source": [
    "import pandas as pd\n",
    "import matplotlib.pyplot as plt\n",
    "from pylab import mpl\n",
    "\n",
    "#首先导入基本的绘图包\n",
    "import matplotlib.pyplot as plt\n",
    "import numpy as np\n",
    "import pandas as pd\n",
    "\n",
    "#添加成绩表\n",
    "plt.style.use(\"ggplot\")\n",
    "plt.rcParams['axes.unicode_minus'] = False\n",
    "plt.rcParams['font.sans-serif']=['SimHei'] \n",
    "\n",
    "#新建一个空的DataFrame\n",
    "df=pd.DataFrame()\n",
    "nanchang_weather = pd.read_csv('nanchang.csv', sep=',', encoding='GB2312')\n",
    "beijing_weather = pd.read_csv('beijing.csv', sep=',', encoding='GB2312')\n",
    "hangzhou_weather = pd.read_csv('hangzhou.csv', sep=',', encoding='GB2312')\n",
    "wuhan_weather = pd.read_csv('wuhan.csv', sep=',', encoding='GB2312')\n",
    "\n",
    "\n",
    "nan_AQI = nanchang_weather['AQI指数']\n",
    "bei_AQI = beijing_weather['AQI指数']\n",
    "hang_AQI = hangzhou_weather['AQI指数']\n",
    "wu_AQI = wuhan_weather['AQI指数']\n",
    "\n"
   ]
  },
  {
   "cell_type": "code",
   "execution_count": 76,
   "metadata": {},
   "outputs": [
    {
     "data": {
      "text/html": [
       "<div>\n",
       "<style scoped>\n",
       "    .dataframe tbody tr th:only-of-type {\n",
       "        vertical-align: middle;\n",
       "    }\n",
       "\n",
       "    .dataframe tbody tr th {\n",
       "        vertical-align: top;\n",
       "    }\n",
       "\n",
       "    .dataframe thead th {\n",
       "        text-align: right;\n",
       "    }\n",
       "</style>\n",
       "<table border=\"1\" class=\"dataframe\">\n",
       "  <thead>\n",
       "    <tr style=\"text-align: right;\">\n",
       "      <th></th>\n",
       "      <th>北京</th>\n",
       "      <th>南昌</th>\n",
       "      <th>杭州</th>\n",
       "      <th>武汉</th>\n",
       "    </tr>\n",
       "  </thead>\n",
       "  <tbody>\n",
       "    <tr>\n",
       "      <th>0</th>\n",
       "      <td>306</td>\n",
       "      <td>162</td>\n",
       "      <td>108</td>\n",
       "      <td>183</td>\n",
       "    </tr>\n",
       "    <tr>\n",
       "      <th>1</th>\n",
       "      <td>62</td>\n",
       "      <td>193</td>\n",
       "      <td>116</td>\n",
       "      <td>240</td>\n",
       "    </tr>\n",
       "    <tr>\n",
       "      <th>2</th>\n",
       "      <td>99</td>\n",
       "      <td>210</td>\n",
       "      <td>90</td>\n",
       "      <td>325</td>\n",
       "    </tr>\n",
       "    <tr>\n",
       "      <th>3</th>\n",
       "      <td>176</td>\n",
       "      <td>136</td>\n",
       "      <td>72</td>\n",
       "      <td>133</td>\n",
       "    </tr>\n",
       "    <tr>\n",
       "      <th>4</th>\n",
       "      <td>231</td>\n",
       "      <td>119</td>\n",
       "      <td>68</td>\n",
       "      <td>61</td>\n",
       "    </tr>\n",
       "  </tbody>\n",
       "</table>\n",
       "</div>"
      ],
      "text/plain": [
       "    北京   南昌   杭州   武汉\n",
       "0  306  162  108  183\n",
       "1   62  193  116  240\n",
       "2   99  210   90  325\n",
       "3  176  136   72  133\n",
       "4  231  119   68   61"
      ]
     },
     "execution_count": 76,
     "metadata": {},
     "output_type": "execute_result"
    }
   ],
   "source": [
    "d = {'南昌' : pd.Series(nan_AQI),\n",
    "     '北京' : pd.Series(bei_AQI),\n",
    "     '杭州' : pd.Series(hang_AQI),\n",
    "     '武汉' : pd.Series(wu_AQI),}\n",
    "\n",
    "boxpic = pd.DataFrame(d)\n",
    "boxpic.head()\n",
    "#boxpic.boxplot()\n"
   ]
  },
  {
   "cell_type": "code",
   "execution_count": 84,
   "metadata": {},
   "outputs": [
    {
     "data": {
      "image/png": "[encoded data removed]",
      "text/plain": [
       "<matplotlib.figure.Figure at 0x154c4d0>"
      ]
     },
     "metadata": {},
     "output_type": "display_data"
    }
   ],
   "source": [
    " #用matplotlib来画出箱型图\n",
    "plt.boxplot(x=boxpic.values,labels=boxpic.columns,whis=4,sym='g*',patch_artist=True,vert=False)\n",
    "plt.title('AQI质量指数箱型图')\n",
    "plt.yticks(fontsize=12.0)\n",
    "plt.xticks(fontsize=12.0)\n",
    "plt.show()"
   ]
  },
  {
   "cell_type": "code",
   "execution_count": 87,
   "metadata": {},
   "outputs": [],
   "source": [
    "nan_AQI = nanchang_weather['当天AQI排名']\n",
    "bei_AQI = beijing_weather['当天AQI排名']\n",
    "hang_AQI = hangzhou_weather['当天AQI排名']\n",
    "wu_AQI = wuhan_weather['当天AQI排名']"
   ]
  },
  {
   "cell_type": "code",
   "execution_count": 88,
   "metadata": {},
   "outputs": [
    {
     "data": {
      "text/html": [
       "<div>\n",
       "<style scoped>\n",
       "    .dataframe tbody tr th:only-of-type {\n",
       "        vertical-align: middle;\n",
       "    }\n",
       "\n",
       "    .dataframe tbody tr th {\n",
       "        vertical-align: top;\n",
       "    }\n",
       "\n",
       "    .dataframe thead th {\n",
       "        text-align: right;\n",
       "    }\n",
       "</style>\n",
       "<table border=\"1\" class=\"dataframe\">\n",
       "  <thead>\n",
       "    <tr style=\"text-align: right;\">\n",
       "      <th></th>\n",
       "      <th>北京</th>\n",
       "      <th>南昌</th>\n",
       "      <th>杭州</th>\n",
       "      <th>武汉</th>\n",
       "    </tr>\n",
       "  </thead>\n",
       "  <tbody>\n",
       "    <tr>\n",
       "      <th>0</th>\n",
       "      <td>106</td>\n",
       "      <td>70</td>\n",
       "      <td>37</td>\n",
       "      <td>80</td>\n",
       "    </tr>\n",
       "    <tr>\n",
       "      <th>1</th>\n",
       "      <td>22</td>\n",
       "      <td>85</td>\n",
       "      <td>56</td>\n",
       "      <td>100</td>\n",
       "    </tr>\n",
       "    <tr>\n",
       "      <th>2</th>\n",
       "      <td>61</td>\n",
       "      <td>110</td>\n",
       "      <td>51</td>\n",
       "      <td>112</td>\n",
       "    </tr>\n",
       "    <tr>\n",
       "      <th>3</th>\n",
       "      <td>98</td>\n",
       "      <td>83</td>\n",
       "      <td>39</td>\n",
       "      <td>79</td>\n",
       "    </tr>\n",
       "    <tr>\n",
       "      <th>4</th>\n",
       "      <td>102</td>\n",
       "      <td>70</td>\n",
       "      <td>34</td>\n",
       "      <td>22</td>\n",
       "    </tr>\n",
       "  </tbody>\n",
       "</table>\n",
       "</div>"
      ],
      "text/plain": [
       "    北京   南昌  杭州   武汉\n",
       "0  106   70  37   80\n",
       "1   22   85  56  100\n",
       "2   61  110  51  112\n",
       "3   98   83  39   79\n",
       "4  102   70  34   22"
      ]
     },
     "execution_count": 88,
     "metadata": {},
     "output_type": "execute_result"
    }
   ],
   "source": [
    "d = {'南昌' : pd.Series(nan_AQI),\n",
    "     '北京' : pd.Series(bei_AQI),\n",
    "     '杭州' : pd.Series(hang_AQI),\n",
    "     '武汉' : pd.Series(wu_AQI),}\n",
    "\n",
    "boxpic = pd.DataFrame(d)\n",
    "boxpic.head()"
   ]
  },
  {
   "cell_type": "code",
   "execution_count": 89,
   "metadata": {},
   "outputs": [
    {
     "data": {
      "image/png": "[encoded data removed]",
      "text/plain": [
       "<matplotlib.figure.Figure at 0x15c6350>"
      ]
     },
     "metadata": {},
     "output_type": "display_data"
    }
   ],
   "source": [
    " #用matplotlib来画出箱型图\n",
    "   # ,vert=False  调节横纵向\n",
    "plt.boxplot(x=boxpic.values,labels=boxpic.columns,whis=1.5,sym='r*')\n",
    "plt.title('当天AQI排名箱型图')\n",
    "plt.show()"
   ]
  },
  {
   "cell_type": "code",
   "execution_count": 90,
   "metadata": {},
   "outputs": [
    {
     "data": {
      "text/html": [
       "<div>\n",
       "<style scoped>\n",
       "    .dataframe tbody tr th:only-of-type {\n",
       "        vertical-align: middle;\n",
       "    }\n",
       "\n",
       "    .dataframe tbody tr th {\n",
       "        vertical-align: top;\n",
       "    }\n",
       "\n",
       "    .dataframe thead th {\n",
       "        text-align: right;\n",
       "    }\n",
       "</style>\n",
       "<table border=\"1\" class=\"dataframe\">\n",
       "  <thead>\n",
       "    <tr style=\"text-align: right;\">\n",
       "      <th></th>\n",
       "      <th>北京</th>\n",
       "      <th>南昌</th>\n",
       "      <th>杭州</th>\n",
       "      <th>武汉</th>\n",
       "    </tr>\n",
       "  </thead>\n",
       "  <tbody>\n",
       "    <tr>\n",
       "      <th>0</th>\n",
       "      <td>255</td>\n",
       "      <td>123</td>\n",
       "      <td>81</td>\n",
       "      <td>140</td>\n",
       "    </tr>\n",
       "    <tr>\n",
       "      <th>1</th>\n",
       "      <td>39</td>\n",
       "      <td>148</td>\n",
       "      <td>87</td>\n",
       "      <td>190</td>\n",
       "    </tr>\n",
       "    <tr>\n",
       "      <th>2</th>\n",
       "      <td>71</td>\n",
       "      <td>162</td>\n",
       "      <td>65</td>\n",
       "      <td>281</td>\n",
       "    </tr>\n",
       "    <tr>\n",
       "      <th>3</th>\n",
       "      <td>135</td>\n",
       "      <td>104</td>\n",
       "      <td>52</td>\n",
       "      <td>100</td>\n",
       "    </tr>\n",
       "    <tr>\n",
       "      <th>4</th>\n",
       "      <td>181</td>\n",
       "      <td>90</td>\n",
       "      <td>48</td>\n",
       "      <td>42</td>\n",
       "    </tr>\n",
       "  </tbody>\n",
       "</table>\n",
       "</div>"
      ],
      "text/plain": [
       "    北京   南昌  杭州   武汉\n",
       "0  255  123  81  140\n",
       "1   39  148  87  190\n",
       "2   71  162  65  281\n",
       "3  135  104  52  100\n",
       "4  181   90  48   42"
      ]
     },
     "execution_count": 90,
     "metadata": {},
     "output_type": "execute_result"
    }
   ],
   "source": [
    "nan_AQI = nanchang_weather['PM2.5']\n",
    "bei_AQI = beijing_weather['PM2.5']\n",
    "hang_AQI = hangzhou_weather['PM2.5']\n",
    "wu_AQI = wuhan_weather['PM2.5']\n",
    "d = {'南昌' : pd.Series(nan_AQI),\n",
    "     '北京' : pd.Series(bei_AQI),\n",
    "     '杭州' : pd.Series(hang_AQI),\n",
    "     '武汉' : pd.Series(wu_AQI),}\n",
    "\n",
    "boxpic = pd.DataFrame(d)\n",
    "boxpic.head()"
   ]
  },
  {
   "cell_type": "code",
   "execution_count": 91,
   "metadata": {},
   "outputs": [
    {
     "data": {
      "image/png": "[encoded data removed]",
      "text/plain": [
       "<matplotlib.figure.Figure at 0x1687890>"
      ]
     },
     "metadata": {},
     "output_type": "display_data"
    }
   ],
   "source": [
    " #用matplotlib来画出箱型图\n",
    "   # ,vert=False  调节横纵向\n",
    "plt.boxplot(x=boxpic.values,labels=boxpic.columns,whis=4,sym='g*')\n",
    "plt.title('PM2.5箱型图')\n",
    "plt.ylabel('浓度(μg/m3)',fontsize=12.0)\n",
    "plt.yticks(fontsize=12.0)\n",
    "plt.xticks(fontsize=12.0)\n",
    "plt.show()"
   ]
  },
  {
   "cell_type": "code",
   "execution_count": 92,
   "metadata": {},
   "outputs": [
    {
     "data": {
      "text/html": [
       "<div>\n",
       "<style scoped>\n",
       "    .dataframe tbody tr th:only-of-type {\n",
       "        vertical-align: middle;\n",
       "    }\n",
       "\n",
       "    .dataframe tbody tr th {\n",
       "        vertical-align: top;\n",
       "    }\n",
       "\n",
       "    .dataframe thead th {\n",
       "        text-align: right;\n",
       "    }\n",
       "</style>\n",
       "<table border=\"1\" class=\"dataframe\">\n",
       "  <thead>\n",
       "    <tr style=\"text-align: right;\">\n",
       "      <th></th>\n",
       "      <th>北京</th>\n",
       "      <th>南昌</th>\n",
       "      <th>杭州</th>\n",
       "      <th>武汉</th>\n",
       "    </tr>\n",
       "  </thead>\n",
       "  <tbody>\n",
       "    <tr>\n",
       "      <th>0</th>\n",
       "      <td>277</td>\n",
       "      <td>217</td>\n",
       "      <td>134</td>\n",
       "      <td>220</td>\n",
       "    </tr>\n",
       "    <tr>\n",
       "      <th>1</th>\n",
       "      <td>62</td>\n",
       "      <td>242</td>\n",
       "      <td>154</td>\n",
       "      <td>297</td>\n",
       "    </tr>\n",
       "    <tr>\n",
       "      <th>2</th>\n",
       "      <td>101</td>\n",
       "      <td>231</td>\n",
       "      <td>96</td>\n",
       "      <td>286</td>\n",
       "    </tr>\n",
       "    <tr>\n",
       "      <th>3</th>\n",
       "      <td>162</td>\n",
       "      <td>134</td>\n",
       "      <td>73</td>\n",
       "      <td>82</td>\n",
       "    </tr>\n",
       "    <tr>\n",
       "      <th>4</th>\n",
       "      <td>202</td>\n",
       "      <td>125</td>\n",
       "      <td>75</td>\n",
       "      <td>47</td>\n",
       "    </tr>\n",
       "  </tbody>\n",
       "</table>\n",
       "</div>"
      ],
      "text/plain": [
       "    北京   南昌   杭州   武汉\n",
       "0  277  217  134  220\n",
       "1   62  242  154  297\n",
       "2  101  231   96  286\n",
       "3  162  134   73   82\n",
       "4  202  125   75   47"
      ]
     },
     "execution_count": 92,
     "metadata": {},
     "output_type": "execute_result"
    }
   ],
   "source": [
    "nan_AQI = nanchang_weather['PM10']\n",
    "bei_AQI = beijing_weather['PM10']\n",
    "hang_AQI = hangzhou_weather['PM10']\n",
    "wu_AQI = wuhan_weather['PM10']\n",
    "d = {'南昌' : pd.Series(nan_AQI),\n",
    "     '北京' : pd.Series(bei_AQI),\n",
    "     '杭州' : pd.Series(hang_AQI),\n",
    "     '武汉' : pd.Series(wu_AQI),}\n",
    "\n",
    "boxpic = pd.DataFrame(d)\n",
    "boxpic.head()"
   ]
  },
  {
   "cell_type": "code",
   "execution_count": 93,
   "metadata": {},
   "outputs": [
    {
     "data": {
      "image/png": "[encoded data removed]",
      "text/plain": [
       "<matplotlib.figure.Figure at 0x178a4d0>"
      ]
     },
     "metadata": {},
     "output_type": "display_data"
    }
   ],
   "source": [
    "plt.boxplot(x=boxpic.values,labels=boxpic.columns,whis=4,sym='g*')\n",
    "plt.title('PM10箱型图')\n",
    "plt.ylabel('浓度(μg/m3)',fontsize=12.0)\n",
    "plt.yticks(fontsize=12.0)\n",
    "plt.xticks(fontsize=12.0)\n",
    "plt.show()"
   ]
  },
  {
   "cell_type": "code",
   "execution_count": 94,
   "metadata": {},
   "outputs": [
    {
     "data": {
      "text/html": [
       "<div>\n",
       "<style scoped>\n",
       "    .dataframe tbody tr th:only-of-type {\n",
       "        vertical-align: middle;\n",
       "    }\n",
       "\n",
       "    .dataframe tbody tr th {\n",
       "        vertical-align: top;\n",
       "    }\n",
       "\n",
       "    .dataframe thead th {\n",
       "        text-align: right;\n",
       "    }\n",
       "</style>\n",
       "<table border=\"1\" class=\"dataframe\">\n",
       "  <thead>\n",
       "    <tr style=\"text-align: right;\">\n",
       "      <th></th>\n",
       "      <th>北京</th>\n",
       "      <th>南昌</th>\n",
       "      <th>杭州</th>\n",
       "      <th>武汉</th>\n",
       "    </tr>\n",
       "  </thead>\n",
       "  <tbody>\n",
       "    <tr>\n",
       "      <th>0</th>\n",
       "      <td>30</td>\n",
       "      <td>50</td>\n",
       "      <td>25</td>\n",
       "      <td>88</td>\n",
       "    </tr>\n",
       "    <tr>\n",
       "      <th>1</th>\n",
       "      <td>10</td>\n",
       "      <td>53</td>\n",
       "      <td>28</td>\n",
       "      <td>74</td>\n",
       "    </tr>\n",
       "    <tr>\n",
       "      <th>2</th>\n",
       "      <td>11</td>\n",
       "      <td>73</td>\n",
       "      <td>19</td>\n",
       "      <td>36</td>\n",
       "    </tr>\n",
       "    <tr>\n",
       "      <th>3</th>\n",
       "      <td>10</td>\n",
       "      <td>34</td>\n",
       "      <td>14</td>\n",
       "      <td>26</td>\n",
       "    </tr>\n",
       "    <tr>\n",
       "      <th>4</th>\n",
       "      <td>14</td>\n",
       "      <td>40</td>\n",
       "      <td>20</td>\n",
       "      <td>24</td>\n",
       "    </tr>\n",
       "  </tbody>\n",
       "</table>\n",
       "</div>"
      ],
      "text/plain": [
       "   北京  南昌  杭州  武汉\n",
       "0  30  50  25  88\n",
       "1  10  53  28  74\n",
       "2  11  73  19  36\n",
       "3  10  34  14  26\n",
       "4  14  40  20  24"
      ]
     },
     "execution_count": 94,
     "metadata": {},
     "output_type": "execute_result"
    }
   ],
   "source": [
    "\n",
    "nan_AQI = nanchang_weather['So2']\n",
    "bei_AQI = beijing_weather['So2']\n",
    "hang_AQI = hangzhou_weather['So2']\n",
    "wu_AQI = wuhan_weather['So2']\n",
    "d = {'南昌' : pd.Series(nan_AQI),\n",
    "     '北京' : pd.Series(bei_AQI),\n",
    "     '杭州' : pd.Series(hang_AQI),\n",
    "     '武汉' : pd.Series(wu_AQI),}\n",
    "\n",
    "boxpic = pd.DataFrame(d)\n",
    "boxpic.head()"
   ]
  },
  {
   "cell_type": "code",
   "execution_count": 95,
   "metadata": {},
   "outputs": [
    {
     "data": {
      "image/png": "[encoded data removed]",
      "text/plain": [
       "<matplotlib.figure.Figure at 0x16a0930>"
      ]
     },
     "metadata": {},
     "output_type": "display_data"
    }
   ],
   "source": [
    "plt.boxplot(x=boxpic.values,labels=boxpic.columns,whis=5,sym='g*')\n",
    "plt.title('So2箱型图',fontsize=12.0)\n",
    "plt.ylabel('浓度(μg/m3)',fontsize=12.0)\n",
    "plt.yticks(fontsize=12.0)\n",
    "plt.xticks(fontsize=12.0)\n",
    "plt.show()"
   ]
  },
  {
   "cell_type": "code",
   "execution_count": 96,
   "metadata": {},
   "outputs": [
    {
     "data": {
      "text/html": [
       "<div>\n",
       "<style scoped>\n",
       "    .dataframe tbody tr th:only-of-type {\n",
       "        vertical-align: middle;\n",
       "    }\n",
       "\n",
       "    .dataframe tbody tr th {\n",
       "        vertical-align: top;\n",
       "    }\n",
       "\n",
       "    .dataframe thead th {\n",
       "        text-align: right;\n",
       "    }\n",
       "</style>\n",
       "<table border=\"1\" class=\"dataframe\">\n",
       "  <thead>\n",
       "    <tr style=\"text-align: right;\">\n",
       "      <th></th>\n",
       "      <th>北京</th>\n",
       "      <th>南昌</th>\n",
       "      <th>杭州</th>\n",
       "      <th>武汉</th>\n",
       "    </tr>\n",
       "  </thead>\n",
       "  <tbody>\n",
       "    <tr>\n",
       "      <th>0</th>\n",
       "      <td>105</td>\n",
       "      <td>79</td>\n",
       "      <td>61</td>\n",
       "      <td>109</td>\n",
       "    </tr>\n",
       "    <tr>\n",
       "      <th>1</th>\n",
       "      <td>46</td>\n",
       "      <td>76</td>\n",
       "      <td>74</td>\n",
       "      <td>122</td>\n",
       "    </tr>\n",
       "    <tr>\n",
       "      <th>2</th>\n",
       "      <td>72</td>\n",
       "      <td>58</td>\n",
       "      <td>49</td>\n",
       "      <td>58</td>\n",
       "    </tr>\n",
       "    <tr>\n",
       "      <th>3</th>\n",
       "      <td>96</td>\n",
       "      <td>38</td>\n",
       "      <td>39</td>\n",
       "      <td>45</td>\n",
       "    </tr>\n",
       "    <tr>\n",
       "      <th>4</th>\n",
       "      <td>100</td>\n",
       "      <td>38</td>\n",
       "      <td>43</td>\n",
       "      <td>36</td>\n",
       "    </tr>\n",
       "  </tbody>\n",
       "</table>\n",
       "</div>"
      ],
      "text/plain": [
       "    北京  南昌  杭州   武汉\n",
       "0  105  79  61  109\n",
       "1   46  76  74  122\n",
       "2   72  58  49   58\n",
       "3   96  38  39   45\n",
       "4  100  38  43   36"
      ]
     },
     "execution_count": 96,
     "metadata": {},
     "output_type": "execute_result"
    }
   ],
   "source": [
    "\n",
    "nan_AQI = nanchang_weather['No2']\n",
    "bei_AQI = beijing_weather['No2']\n",
    "hang_AQI = hangzhou_weather['No2']\n",
    "wu_AQI = wuhan_weather['No2']\n",
    "d = {'南昌' : pd.Series(nan_AQI),\n",
    "     '北京' : pd.Series(bei_AQI),\n",
    "     '杭州' : pd.Series(hang_AQI),\n",
    "     '武汉' : pd.Series(wu_AQI),}\n",
    "\n",
    "boxpic = pd.DataFrame(d)\n",
    "boxpic.head()"
   ]
  },
  {
   "cell_type": "code",
   "execution_count": 99,
   "metadata": {},
   "outputs": [
    {
     "data": {
      "image/png": "[encoded data removed]",
      "text/plain": [
       "<matplotlib.figure.Figure at 0x1553090>"
      ]
     },
     "metadata": {},
     "output_type": "display_data"
    }
   ],
   "source": [
    "plt.boxplot(x=boxpic.values,labels=boxpic.columns,whis=3,sym='y*')\n",
    "plt.title('No2箱型图',fontsize=12.0)\n",
    "plt.ylabel('浓度',fontsize=12.0)\n",
    "plt.yticks(fontsize=12.0)\n",
    "plt.xticks(fontsize=12.0)\n",
    "plt.show()"
   ]
  },
  {
   "cell_type": "code",
   "execution_count": 106,
   "metadata": {},
   "outputs": [
    {
     "data": {
      "text/html": [
       "<div>\n",
       "<style scoped>\n",
       "    .dataframe tbody tr th:only-of-type {\n",
       "        vertical-align: middle;\n",
       "    }\n",
       "\n",
       "    .dataframe tbody tr th {\n",
       "        vertical-align: top;\n",
       "    }\n",
       "\n",
       "    .dataframe thead th {\n",
       "        text-align: right;\n",
       "    }\n",
       "</style>\n",
       "<table border=\"1\" class=\"dataframe\">\n",
       "  <thead>\n",
       "    <tr style=\"text-align: right;\">\n",
       "      <th></th>\n",
       "      <th>北京</th>\n",
       "      <th>南昌</th>\n",
       "      <th>杭州</th>\n",
       "      <th>武汉</th>\n",
       "    </tr>\n",
       "  </thead>\n",
       "  <tbody>\n",
       "    <tr>\n",
       "      <th>0</th>\n",
       "      <td>2.60</td>\n",
       "      <td>1.54</td>\n",
       "      <td>0.87</td>\n",
       "      <td>2.02</td>\n",
       "    </tr>\n",
       "    <tr>\n",
       "      <th>1</th>\n",
       "      <td>0.91</td>\n",
       "      <td>1.48</td>\n",
       "      <td>0.93</td>\n",
       "      <td>2.06</td>\n",
       "    </tr>\n",
       "    <tr>\n",
       "      <th>2</th>\n",
       "      <td>1.18</td>\n",
       "      <td>1.44</td>\n",
       "      <td>0.73</td>\n",
       "      <td>2.01</td>\n",
       "    </tr>\n",
       "    <tr>\n",
       "      <th>3</th>\n",
       "      <td>1.62</td>\n",
       "      <td>1.01</td>\n",
       "      <td>0.59</td>\n",
       "      <td>1.26</td>\n",
       "    </tr>\n",
       "    <tr>\n",
       "      <th>4</th>\n",
       "      <td>1.89</td>\n",
       "      <td>1.07</td>\n",
       "      <td>0.61</td>\n",
       "      <td>1.31</td>\n",
       "    </tr>\n",
       "  </tbody>\n",
       "</table>\n",
       "</div>"
      ],
      "text/plain": [
       "     北京    南昌    杭州    武汉\n",
       "0  2.60  1.54  0.87  2.02\n",
       "1  0.91  1.48  0.93  2.06\n",
       "2  1.18  1.44  0.73  2.01\n",
       "3  1.62  1.01  0.59  1.26\n",
       "4  1.89  1.07  0.61  1.31"
      ]
     },
     "execution_count": 106,
     "metadata": {},
     "output_type": "execute_result"
    }
   ],
   "source": [
    "\n",
    "nan_AQI = nanchang_weather['Co']\n",
    "bei_AQI = beijing_weather['Co']\n",
    "hang_AQI = hangzhou_weather['Co']\n",
    "wu_AQI = wuhan_weather['Co']\n",
    "d = {'南昌' : pd.Series(nan_AQI),\n",
    "     '北京' : pd.Series(bei_AQI),\n",
    "     '杭州' : pd.Series(hang_AQI),\n",
    "     '武汉' : pd.Series(wu_AQI),}\n",
    "\n",
    "boxpic = pd.DataFrame(d)\n",
    "boxpic.head()"
   ]
  },
  {
   "cell_type": "code",
   "execution_count": 107,
   "metadata": {},
   "outputs": [
    {
     "data": {
      "image/png": "[encoded data removed]",
      "text/plain": [
       "<matplotlib.figure.Figure at 0x17211d0>"
      ]
     },
     "metadata": {},
     "output_type": "display_data"
    }
   ],
   "source": [
    "plt.boxplot(x=boxpic.values,labels=boxpic.columns,whis=5,sym='w*')\n",
    "plt.title('Co箱型图',fontsize=12.0)\n",
    "plt.ylabel('浓度(mg/m3)',fontsize=12.0)\n",
    "plt.yticks(fontsize=12.0)\n",
    "plt.xticks(fontsize=12.0)\n",
    "plt.show()"
   ]
  },
  {
   "cell_type": "code",
   "execution_count": 102,
   "metadata": {},
   "outputs": [
    {
     "data": {
      "text/html": [
       "<div>\n",
       "<style scoped>\n",
       "    .dataframe tbody tr th:only-of-type {\n",
       "        vertical-align: middle;\n",
       "    }\n",
       "\n",
       "    .dataframe tbody tr th {\n",
       "        vertical-align: top;\n",
       "    }\n",
       "\n",
       "    .dataframe thead th {\n",
       "        text-align: right;\n",
       "    }\n",
       "</style>\n",
       "<table border=\"1\" class=\"dataframe\">\n",
       "  <thead>\n",
       "    <tr style=\"text-align: right;\">\n",
       "      <th></th>\n",
       "      <th>北京</th>\n",
       "      <th>南昌</th>\n",
       "      <th>杭州</th>\n",
       "      <th>武汉</th>\n",
       "    </tr>\n",
       "  </thead>\n",
       "  <tbody>\n",
       "    <tr>\n",
       "      <th>0</th>\n",
       "      <td>15</td>\n",
       "      <td>45</td>\n",
       "      <td>54</td>\n",
       "      <td>63</td>\n",
       "    </tr>\n",
       "    <tr>\n",
       "      <th>1</th>\n",
       "      <td>27</td>\n",
       "      <td>61</td>\n",
       "      <td>54</td>\n",
       "      <td>48</td>\n",
       "    </tr>\n",
       "    <tr>\n",
       "      <th>2</th>\n",
       "      <td>14</td>\n",
       "      <td>48</td>\n",
       "      <td>51</td>\n",
       "      <td>50</td>\n",
       "    </tr>\n",
       "    <tr>\n",
       "      <th>3</th>\n",
       "      <td>2</td>\n",
       "      <td>48</td>\n",
       "      <td>58</td>\n",
       "      <td>28</td>\n",
       "    </tr>\n",
       "    <tr>\n",
       "      <th>4</th>\n",
       "      <td>0</td>\n",
       "      <td>41</td>\n",
       "      <td>57</td>\n",
       "      <td>11</td>\n",
       "    </tr>\n",
       "  </tbody>\n",
       "</table>\n",
       "</div>"
      ],
      "text/plain": [
       "   北京  南昌  杭州  武汉\n",
       "0  15  45  54  63\n",
       "1  27  61  54  48\n",
       "2  14  48  51  50\n",
       "3   2  48  58  28\n",
       "4   0  41  57  11"
      ]
     },
     "execution_count": 102,
     "metadata": {},
     "output_type": "execute_result"
    }
   ],
   "source": [
    "\n",
    "nan_AQI = nanchang_weather['O3']\n",
    "bei_AQI = beijing_weather['O3']\n",
    "hang_AQI = hangzhou_weather['O3']\n",
    "wu_AQI = wuhan_weather['O3']\n",
    "d = {'南昌' : pd.Series(nan_AQI),\n",
    "     '北京' : pd.Series(bei_AQI),\n",
    "     '杭州' : pd.Series(hang_AQI),\n",
    "     '武汉' : pd.Series(wu_AQI),}\n",
    "\n",
    "boxpic = pd.DataFrame(d)\n",
    "boxpic.head()"
   ]
  },
  {
   "cell_type": "code",
   "execution_count": 105,
   "metadata": {},
   "outputs": [
    {
     "data": {
      "image/png": "[encoded data removed]",
      "text/plain": [
       "<matplotlib.figure.Figure at 0x18b7910>"
      ]
     },
     "metadata": {},
     "output_type": "display_data"
    }
   ],
   "source": [
    "plt.boxplot(x=boxpic.values,labels=boxpic.columns,whis=2,sym='g+')\n",
    "plt.title('O3箱型图',fontsize=12.0)\n",
    "plt.ylabel('浓度(μg/m3)',fontsize=12.0)\n",
    "plt.yticks(fontsize=12.0)\n",
    "plt.xticks(fontsize=12.0)\n",
    "plt.show()"
   ]
  },
  {
   "cell_type": "code",
   "execution_count": null,
   "metadata": {},
   "outputs": [],
   "source": []
  },
  {
   "cell_type": "code",
   "execution_count": null,
   "metadata": {},
   "outputs": [],
   "source": []
  }
 ],
 "metadata": {
  "kernelspec": {
   "display_name": "Python 3",
   "language": "python",
   "name": "python3"
  },
  "language_info": {
   "codemirror_mode": {
    "name": "ipython",
    "version": 3
   },
   "file_extension": ".py",
   "mimetype": "text/x-python",
   "name": "python",
   "nbconvert_exporter": "python",
   "pygments_lexer": "ipython3",
   "version": "3.6.4"
  }
 },
 "nbformat": 4,
 "nbformat_minor": 2
}
